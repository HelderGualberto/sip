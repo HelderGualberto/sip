{
 "cells": [
  {
   "cell_type": "code",
   "execution_count": 4,
   "metadata": {},
   "outputs": [],
   "source": [
    "import cv2, dlib\n",
    "import numpy as np\n",
    "from matplotlib import pyplot as plt\n",
    "from dlib_align import AlignDlib"
   ]
  },
  {
   "cell_type": "code",
   "execution_count": 7,
   "metadata": {},
   "outputs": [],
   "source": [
    "class ImgUtils:\n",
    "    def to_RGB(img):\n",
    "        return cv2.cvtColor(img, cv2.COLOR_BGR2RGB)\n",
    "    \n",
    "    def to_grayscale(img):\n",
    "        return cv2.cvtColor(img, cv2.COLOR_BGR2GRAY)\n",
    "    \n",
    "    def calc_rect_area(rect):\n",
    "        return rect.h * rect.w\n",
    "\n",
    "class FaceUtils:\n",
    "    def shape_to_np(shape, dtype=\"int\"):\n",
    "        # initialize the list of (x, y)-coordinates\n",
    "        coords = np.zeros((68, 2), dtype=dtype)\n",
    "\n",
    "        # loop over the 68 facial landmarks and convert them\n",
    "        # to a 2-tuple of (x, y)-coordinates\n",
    "        for i in range(0, 68):\n",
    "            coords[i] = (shape.part(i).x, shape.part(i).y)\n",
    "\n",
    "        # return the list of (x, y)-coordinates\n",
    "        return coords\n",
    "    \n",
    "class Rect:\n",
    "    def __init__(self, x, y, width, height):\n",
    "        self.x1 = x\n",
    "        self.y1 = y\n",
    "        self.x2 = x + width\n",
    "        self.y2 = y + height\n",
    "        self.h = height\n",
    "        self.w = width\n",
    "        self.area = ImgUtils.calc_rect_area(self)\n",
    "        \n",
    "class AvgFilter:\n",
    "    def __init__(self, max_window_size, min_window_size=1, confidence_interval=20.0):\n",
    "        self.max = max_window_size\n",
    "        self.min = min_window_size\n",
    "        self.confidence = confidence_interval / 100.0\n",
    "        \n",
    "        self.buffer = np.zeros(self.max)\n",
    "        self.index = 0\n",
    "    \n",
    "    def apply_filter(self, rect):\n",
    "        self.buffer.put(self.index, rect.area)\n",
    "        avg = np.average(self.buffer)\n",
    "        \n",
    "        if self.index == self.max-1: \n",
    "            self.index = 0\n",
    "        else:\n",
    "            self.index += 1\n",
    "        \n",
    "        if avg > (1.0+self.confidence) * rect.area or avg < (1.0-self.confidence) * rect.area:            \n",
    "            return False\n",
    "        return True\n",
    "        \n",
    "        "
   ]
  },
  {
   "cell_type": "code",
   "execution_count": 8,
   "metadata": {},
   "outputs": [
    {
     "ename": "KeyboardInterrupt",
     "evalue": "",
     "output_type": "error",
     "traceback": [
      "\u001b[0;31m----------------------------------------------------------------------\u001b[0m",
      "\u001b[0;31mKeyboardInterrupt\u001b[0m                    Traceback (most recent call last)",
      "\u001b[0;32m<ipython-input-8-b8ffca16765b>\u001b[0m in \u001b[0;36m<module>\u001b[0;34m\u001b[0m\n\u001b[1;32m     21\u001b[0m     \u001b[0mgray\u001b[0m \u001b[0;34m=\u001b[0m \u001b[0mcv2\u001b[0m\u001b[0;34m.\u001b[0m\u001b[0mcvtColor\u001b[0m\u001b[0;34m(\u001b[0m\u001b[0mimg\u001b[0m\u001b[0;34m,\u001b[0m \u001b[0mcv2\u001b[0m\u001b[0;34m.\u001b[0m\u001b[0mCOLOR_BGR2GRAY\u001b[0m\u001b[0;34m)\u001b[0m\u001b[0;34m\u001b[0m\u001b[0;34m\u001b[0m\u001b[0m\n\u001b[1;32m     22\u001b[0m \u001b[0;34m\u001b[0m\u001b[0m\n\u001b[0;32m---> 23\u001b[0;31m     \u001b[0mrects\u001b[0m \u001b[0;34m=\u001b[0m \u001b[0mcascade\u001b[0m\u001b[0;34m.\u001b[0m\u001b[0mdetectMultiScale\u001b[0m\u001b[0;34m(\u001b[0m\u001b[0mgray\u001b[0m\u001b[0;34m,\u001b[0m \u001b[0;36m1.5\u001b[0m\u001b[0;34m,\u001b[0m \u001b[0;36m1\u001b[0m\u001b[0;34m)\u001b[0m\u001b[0;34m\u001b[0m\u001b[0;34m\u001b[0m\u001b[0m\n\u001b[0m\u001b[1;32m     24\u001b[0m \u001b[0;34m\u001b[0m\u001b[0m\n\u001b[1;32m     25\u001b[0m     \u001b[0;32mfor\u001b[0m \u001b[0mx\u001b[0m\u001b[0;34m,\u001b[0m\u001b[0my\u001b[0m\u001b[0;34m,\u001b[0m\u001b[0mh\u001b[0m\u001b[0;34m,\u001b[0m\u001b[0mw\u001b[0m \u001b[0;32min\u001b[0m \u001b[0mrects\u001b[0m\u001b[0;34m:\u001b[0m\u001b[0;34m\u001b[0m\u001b[0;34m\u001b[0m\u001b[0m\n",
      "\u001b[0;31mKeyboardInterrupt\u001b[0m: "
     ]
    }
   ],
   "source": [
    "#read an image from file\n",
    "img = cv2.imread(\"../data/im1.jpg\", cv2.IMREAD_COLOR)\n",
    "\n",
    "classifier = \"/opt/opencv-4.0.1/data/haarcascades/haarcascade_frontalface_default.xml\"\n",
    "detector = dlib.get_frontal_face_detector()\n",
    "predictor = dlib.shape_predictor(\"../models/dlib/shape_predictor_68_face_landmarks.dat\")\n",
    "cascade = cv2.CascadeClassifier(classifier)\n",
    "aligner = AlignDlib(\"../models/dlib/shape_predictor_68_face_landmarks.dat\")\n",
    "\n",
    "cap = cv2.VideoCapture(0)\n",
    "\n",
    "while True:\n",
    "    ret, img = cap.read()\n",
    "    \n",
    "    if not ret:\n",
    "        break\n",
    "    if img is None:\n",
    "        break\n",
    "        \n",
    "    # Our operations on the frame come here\n",
    "    gray = cv2.cvtColor(img, cv2.COLOR_BGR2GRAY)\n",
    "\n",
    "    rects = cascade.detectMultiScale(gray, 1.5, 1)\n",
    "\n",
    "    for x,y,h,w in rects:\n",
    "        rect = dlib.rectangle(x,y,x+w,y+h)\n",
    "        cv2.rectangle(gray, (x,y),(x+w,y+y),255,3)\n",
    "\n",
    "        shape = predictor(gray, rect)\n",
    "        shape = FaceUtils.shape_to_np(shape)\n",
    "        for (x, y) in shape:\n",
    "            cv2.circle(gray, (x, y), 4, (0, 0, 255), -1)\n",
    "\n",
    "        aligned_face = aligner.align(\n",
    "            imgDim=96,\n",
    "            rgbImg=ImgUtils.to_RGB(img),\n",
    "            bb=rect,\n",
    "            landmarks=shape,\n",
    "            landmarkIndices=AlignDlib.OUTER_EYES_AND_NOSE)\n",
    "\n",
    "        cv2.imshow(\"gray\",gray)\n",
    "        cv2.imshow(\"align\",aligned_face)\n",
    "\n",
    "        cv2.waitKey(10)\n",
    "        \n",
    "cv2.destroyAllWindows()"
   ]
  },
  {
   "cell_type": "code",
   "execution_count": 12,
   "metadata": {},
   "outputs": [],
   "source": []
  },
  {
   "cell_type": "code",
   "execution_count": 16,
   "metadata": {},
   "outputs": [],
   "source": []
  },
  {
   "cell_type": "code",
   "execution_count": 17,
   "metadata": {},
   "outputs": [],
   "source": [
    "cv2.imshow(\"a\",aligned_face)\n",
    "cv2.waitKey(5000)\n",
    "cv2.destroyAllWindows()"
   ]
  },
  {
   "cell_type": "code",
   "execution_count": null,
   "metadata": {},
   "outputs": [],
   "source": []
  }
 ],
 "metadata": {
  "kernelspec": {
   "display_name": "Python 3",
   "language": "python",
   "name": "python3"
  },
  "language_info": {
   "codemirror_mode": {
    "name": "ipython",
    "version": 3
   },
   "file_extension": ".py",
   "mimetype": "text/x-python",
   "name": "python",
   "nbconvert_exporter": "python",
   "pygments_lexer": "ipython3",
   "version": "3.6.8"
  }
 },
 "nbformat": 4,
 "nbformat_minor": 2
}
